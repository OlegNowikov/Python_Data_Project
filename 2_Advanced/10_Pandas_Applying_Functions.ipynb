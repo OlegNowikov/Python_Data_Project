{
 "cells": [
  {
   "cell_type": "code",
   "execution_count": 101,
   "metadata": {},
   "outputs": [],
   "source": [
    "import pandas as pd\n",
    "from datasets import load_dataset\n",
    "import matplotlib.pyplot as plt\n",
    "\n",
    "dataset = load_dataset('lukebarousse/data_jobs')\n",
    "df = dataset['train'].to_pandas()\n",
    "df['job_posted_date'] = pd.to_datetime(df['job_posted_date'])\n",
    "df_altered = df.copy()\n"
   ]
  },
  {
   "cell_type": "code",
   "execution_count": 68,
   "metadata": {},
   "outputs": [],
   "source": [
    "df_salary = df_altered[pd.notna(df_altered['salary_year_avg'])].copy()\n",
    "def projected_salary(salary):\n",
    "    return salary * 1.03\n",
    "df_salary['salary_year_inflated'] = df_salary['salary_year_avg'].apply(projected_salary) "
   ]
  },
  {
   "cell_type": "code",
   "execution_count": null,
   "metadata": {},
   "outputs": [],
   "source": [
    "df_salary[['salary_year_inflated', 'salary_year_avg']]"
   ]
  },
  {
   "cell_type": "code",
   "execution_count": null,
   "metadata": {},
   "outputs": [],
   "source": [
    "df_salary2 = df_altered[pd.notna(df_altered['salary_year_avg'])].copy()\n",
    "df_salary2['salary_year_inflated'] = df_salary2['salary_year_avg'].apply( lambda salary: salary * 1.03)\n",
    "df_salary2[['salary_year_inflated', 'salary_year_avg']]\n"
   ]
  },
  {
   "cell_type": "code",
   "execution_count": null,
   "metadata": {},
   "outputs": [],
   "source": [
    "df_salary3 = df_altered[pd.notna(df_altered['salary_year_avg'])].copy()\n",
    "df_salary3['salary_year_inflated'] = df_salary3['salary_year_avg'] * 1.03\n",
    "df_salary3[['salary_year_inflated', 'salary_year_avg']]"
   ]
  },
  {
   "cell_type": "code",
   "execution_count": null,
   "metadata": {},
   "outputs": [],
   "source": [
    "#string to list\n",
    "import ast\n",
    "ast.literal_eval(df_altered['job_skills'][1]) # type(ast.literal_eval(df_altered['job_skills'][1])) type list"
   ]
  },
  {
   "cell_type": "code",
   "execution_count": null,
   "metadata": {},
   "outputs": [],
   "source": [
    "df_altered['job_skills'][1] # type(df_altered['job_skills'][1]) - str\n"
   ]
  },
  {
   "cell_type": "code",
   "execution_count": 86,
   "metadata": {},
   "outputs": [],
   "source": [
    "def clean_list(skills):\n",
    "    if pd.notna(skills):\n",
    "        return ast.literal_eval(skills)\n",
    "df_altered['job_skills'] = df_altered['job_skills'].apply(clean_list)"
   ]
  },
  {
   "cell_type": "code",
   "execution_count": 98,
   "metadata": {},
   "outputs": [],
   "source": [
    "#alternative to def clean_list\n",
    "df_altered['job_skills'] = df_altered['job_skills'].apply(lambda skil: ast.literal_eval(skil) if pd.notna(skil) else skil)"
   ]
  },
  {
   "cell_type": "code",
   "execution_count": 115,
   "metadata": {},
   "outputs": [],
   "source": [
    "# % priklauso nuo pareigu\n",
    "def projected_salar(row):\n",
    "    if 'Senior' in row['job_title_short']:\n",
    "        return 1.05 * row['salary_year_avg']\n",
    "    else: \n",
    "        return 1.03 * row['salary_year_avg']\n",
    "df_salary4 = df_altered[pd.notna(df_altered['salary_year_avg'])].copy()\n",
    "\n",
    "df_salary4['job_salary_inflated'] = df_salary4.apply(projected_salar, axis=1)\n",
    "\n",
    "# alternatyva df_salary4['salary_year_inflated'] = df_salary4.apply(lambda row: 1.05 * row['salary_year_avg'] if 'Senior' in row['job_title_short'] else 1.03 * row['salary_year_avg'], axis=1)"
   ]
  },
  {
   "cell_type": "code",
   "execution_count": 124,
   "metadata": {},
   "outputs": [
    {
     "data": {
      "text/html": [
       "<div>\n",
       "<style scoped>\n",
       "    .dataframe tbody tr th:only-of-type {\n",
       "        vertical-align: middle;\n",
       "    }\n",
       "\n",
       "    .dataframe tbody tr th {\n",
       "        vertical-align: top;\n",
       "    }\n",
       "\n",
       "    .dataframe thead th {\n",
       "        text-align: right;\n",
       "    }\n",
       "</style>\n",
       "<table border=\"1\" class=\"dataframe\">\n",
       "  <thead>\n",
       "    <tr style=\"text-align: right;\">\n",
       "      <th></th>\n",
       "      <th>job_title_short</th>\n",
       "      <th>salary_year_avg</th>\n",
       "      <th>job_salary_inflated</th>\n",
       "    </tr>\n",
       "  </thead>\n",
       "  <tbody>\n",
       "    <tr>\n",
       "      <th>28</th>\n",
       "      <td>Data Scientist</td>\n",
       "      <td>109500.0</td>\n",
       "      <td>112785.00</td>\n",
       "    </tr>\n",
       "    <tr>\n",
       "      <th>77</th>\n",
       "      <td>Data Engineer</td>\n",
       "      <td>140000.0</td>\n",
       "      <td>144200.00</td>\n",
       "    </tr>\n",
       "    <tr>\n",
       "      <th>92</th>\n",
       "      <td>Data Engineer</td>\n",
       "      <td>120000.0</td>\n",
       "      <td>123600.00</td>\n",
       "    </tr>\n",
       "    <tr>\n",
       "      <th>100</th>\n",
       "      <td>Data Scientist</td>\n",
       "      <td>228222.0</td>\n",
       "      <td>235068.66</td>\n",
       "    </tr>\n",
       "    <tr>\n",
       "      <th>109</th>\n",
       "      <td>Data Analyst</td>\n",
       "      <td>89000.0</td>\n",
       "      <td>91670.00</td>\n",
       "    </tr>\n",
       "    <tr>\n",
       "      <th>...</th>\n",
       "      <td>...</td>\n",
       "      <td>...</td>\n",
       "      <td>...</td>\n",
       "    </tr>\n",
       "    <tr>\n",
       "      <th>785624</th>\n",
       "      <td>Data Engineer</td>\n",
       "      <td>139216.0</td>\n",
       "      <td>143392.48</td>\n",
       "    </tr>\n",
       "    <tr>\n",
       "      <th>785641</th>\n",
       "      <td>Data Engineer</td>\n",
       "      <td>150000.0</td>\n",
       "      <td>154500.00</td>\n",
       "    </tr>\n",
       "    <tr>\n",
       "      <th>785648</th>\n",
       "      <td>Data Scientist</td>\n",
       "      <td>221875.0</td>\n",
       "      <td>228531.25</td>\n",
       "    </tr>\n",
       "    <tr>\n",
       "      <th>785682</th>\n",
       "      <td>Data Scientist</td>\n",
       "      <td>157500.0</td>\n",
       "      <td>162225.00</td>\n",
       "    </tr>\n",
       "    <tr>\n",
       "      <th>785692</th>\n",
       "      <td>Data Scientist</td>\n",
       "      <td>157500.0</td>\n",
       "      <td>162225.00</td>\n",
       "    </tr>\n",
       "  </tbody>\n",
       "</table>\n",
       "<p>22003 rows × 3 columns</p>\n",
       "</div>"
      ],
      "text/plain": [
       "       job_title_short  salary_year_avg  job_salary_inflated\n",
       "28      Data Scientist         109500.0            112785.00\n",
       "77       Data Engineer         140000.0            144200.00\n",
       "92       Data Engineer         120000.0            123600.00\n",
       "100     Data Scientist         228222.0            235068.66\n",
       "109       Data Analyst          89000.0             91670.00\n",
       "...                ...              ...                  ...\n",
       "785624   Data Engineer         139216.0            143392.48\n",
       "785641   Data Engineer         150000.0            154500.00\n",
       "785648  Data Scientist         221875.0            228531.25\n",
       "785682  Data Scientist         157500.0            162225.00\n",
       "785692  Data Scientist         157500.0            162225.00\n",
       "\n",
       "[22003 rows x 3 columns]"
      ]
     },
     "execution_count": 124,
     "metadata": {},
     "output_type": "execute_result"
    }
   ],
   "source": [
    "df_salary4[['job_title_short', 'salary_year_avg', 'job_salary_inflated']]"
   ]
  }
 ],
 "metadata": {
  "kernelspec": {
   "display_name": "python_course",
   "language": "python",
   "name": "python3"
  },
  "language_info": {
   "codemirror_mode": {
    "name": "ipython",
    "version": 3
   },
   "file_extension": ".py",
   "mimetype": "text/x-python",
   "name": "python",
   "nbconvert_exporter": "python",
   "pygments_lexer": "ipython3",
   "version": "3.11.9"
  }
 },
 "nbformat": 4,
 "nbformat_minor": 2
}
