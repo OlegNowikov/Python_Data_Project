{
 "cells": [
  {
   "cell_type": "code",
   "execution_count": 3,
   "metadata": {},
   "outputs": [],
   "source": [
    "import pandas as pd\n",
    "from datasets import load_dataset\n",
    "import matplotlib.pyplot as plt\n",
    "\n",
    "# Loading Data\n",
    "dataset = load_dataset('lukebarousse/data_jobs')\n",
    "\n",
    "# Data Cleansing\n",
    "df_original = dataset['train'].to_pandas()\n",
    "df_original['job_posted_date'] = pd.to_datetime(df_original['job_posted_date'])\n",
    "df_altered = df_original.copy()\n",
    "\n",
    "\n"
   ]
  },
  {
   "cell_type": "code",
   "execution_count": 5,
   "metadata": {},
   "outputs": [],
   "source": [
    "df_altered['job_posted_month'] = df_altered['job_posted_date'].dt.strftime('%b')"
   ]
  },
  {
   "cell_type": "code",
   "execution_count": 7,
   "metadata": {},
   "outputs": [],
   "source": [
    "#dict_months = {\n",
    "#    'Jan': df_jan,\n",
    "#   'Feb': df_feb,\n",
    "#    'Mar': df_mar,\n",
    "#    'Apr': df_apr,\n",
    "#    'May': df_may,\n",
    "#    'Jun': df_jun,\n",
    "#    'Jul': df_jul,\n",
    "#    'Aug': df_aug,\n",
    "#    'Sep': df_sep,\n",
    "#    'Oct': df_oct,\n",
    "#   'Nov': df_nov,\n",
    "#    'Dec': df_dec\n",
    "#}"
   ]
  },
  {
   "cell_type": "code",
   "execution_count": null,
   "metadata": {},
   "outputs": [],
   "source": [
    "months = df_altered['job_posted_month'].unique()\n",
    "months"
   ]
  },
  {
   "cell_type": "code",
   "execution_count": null,
   "metadata": {},
   "outputs": [],
   "source": [
    "#{month: month for month in months}\n",
    "dic_months = {month: df_altered[df_altered['job_posted_month']==month] for month in months}\n",
    "dic_months['Jan']"
   ]
  },
  {
   "cell_type": "code",
   "execution_count": null,
   "metadata": {},
   "outputs": [],
   "source": [
    "#Boss needs 2023 Q1\n",
    "df_q1 = pd.concat([dic_months['Jan'], dic_months['Feb'], dic_months['Mar']], ignore_index=True)\n",
    "df_q1 #for testing if 3months -> df_q1['job_posted_month'].value_counts().plot(kind='bar')"
   ]
  }
 ],
 "metadata": {
  "kernelspec": {
   "display_name": "python_course",
   "language": "python",
   "name": "python3"
  },
  "language_info": {
   "codemirror_mode": {
    "name": "ipython",
    "version": 3
   },
   "file_extension": ".py",
   "mimetype": "text/x-python",
   "name": "python",
   "nbconvert_exporter": "python",
   "pygments_lexer": "ipython3",
   "version": "3.11.9"
  }
 },
 "nbformat": 4,
 "nbformat_minor": 2
}
